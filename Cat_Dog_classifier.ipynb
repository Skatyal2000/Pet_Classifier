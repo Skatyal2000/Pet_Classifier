{
  "nbformat": 4,
  "nbformat_minor": 0,
  "metadata": {
    "colab": {
      "name": "Cat_Dog_classifier.ipynb",
      "provenance": [],
      "collapsed_sections": []
    },
    "kernelspec": {
      "name": "python3",
      "display_name": "Python 3"
    }
  },
  "cells": [
    {
      "cell_type": "code",
      "metadata": {
        "id": "04WJJM7B9_Gj"
      },
      "source": [
        "from keras.models import Sequential\n",
        "from keras.layers import Dense\n",
        "from keras.layers import Convolution2D\n",
        "from keras.layers import MaxPooling2D\n",
        "from keras.layers import Flatten"
      ],
      "execution_count": null,
      "outputs": []
    },
    {
      "cell_type": "code",
      "metadata": {
        "id": "EUn3bco-_fAI"
      },
      "source": [
        "cla = Sequential()"
      ],
      "execution_count": null,
      "outputs": []
    },
    {
      "cell_type": "code",
      "metadata": {
        "id": "9a2MH19LLYYd"
      },
      "source": [
        "cla.add(Convolution2D(32,3,3, input_shape = (64, 64, 3), activation='relu'))"
      ],
      "execution_count": null,
      "outputs": []
    },
    {
      "cell_type": "code",
      "metadata": {
        "id": "f8Ot8eklMrrT"
      },
      "source": [
        "cla.add(MaxPooling2D(pool_size=(2,2)))"
      ],
      "execution_count": null,
      "outputs": []
    },
    {
      "cell_type": "code",
      "metadata": {
        "id": "XZzFliv4NVFf"
      },
      "source": [
        "cla.add(Flatten())"
      ],
      "execution_count": null,
      "outputs": []
    },
    {
      "cell_type": "code",
      "metadata": {
        "id": "wRhKseugOAtx"
      },
      "source": [
        "cla.add(Dense(units=128, activation='relu'))\n",
        "cla.add(Dense(units=1, activation='sigmoid'))"
      ],
      "execution_count": null,
      "outputs": []
    },
    {
      "cell_type": "code",
      "metadata": {
        "id": "rk71bKNBPDjZ"
      },
      "source": [
        "cla.compile(optimizer='adam', loss='binary_crossentropy',metrics=['accuracy'])"
      ],
      "execution_count": null,
      "outputs": []
    },
    {
      "cell_type": "code",
      "metadata": {
        "id": "JEd24enUmFbw"
      },
      "source": [
        "from keras.preprocessing.image import ImageDataGenerator"
      ],
      "execution_count": null,
      "outputs": []
    },
    {
      "cell_type": "code",
      "metadata": {
        "colab": {
          "base_uri": "https://localhost:8080/"
        },
        "id": "SlqS2YK9mIh0",
        "outputId": "b13a6c95-570b-4610-d89a-81ed541f932e"
      },
      "source": [
        "train_datagen = ImageDataGenerator(rescale=1./255,\n",
        "        shear_range=0.2,\n",
        "        zoom_range=0.2,\n",
        "        horizontal_flip=True)\n",
        "training_set = train_datagen.flow_from_directory(\n",
        "        '/content/drive/MyDrive/ds/train',\n",
        "        target_size=(64, 64),\n",
        "        batch_size=32,\n",
        "        class_mode='binary')"
      ],
      "execution_count": null,
      "outputs": [
        {
          "output_type": "stream",
          "text": [
            "Found 8001 images belonging to 2 classes.\n"
          ],
          "name": "stdout"
        }
      ]
    },
    {
      "cell_type": "code",
      "metadata": {
        "colab": {
          "base_uri": "https://localhost:8080/"
        },
        "id": "icPb3pFWmQDN",
        "outputId": "896f2993-1bdc-4a76-8f76-0d226e822e7b"
      },
      "source": [
        "test_datagen = ImageDataGenerator(rescale=1./255)\n",
        "test_set = test_datagen.flow_from_directory(\n",
        "        '/content/drive/MyDrive/ds/test',\n",
        "        target_size=(64, 64),\n",
        "        batch_size=32,\n",
        "        class_mode='binary')"
      ],
      "execution_count": null,
      "outputs": [
        {
          "output_type": "stream",
          "text": [
            "Found 2000 images belonging to 2 classes.\n"
          ],
          "name": "stdout"
        }
      ]
    },
    {
      "cell_type": "code",
      "metadata": {
        "id": "tKgcR3GCP0To",
        "colab": {
          "base_uri": "https://localhost:8080/"
        },
        "outputId": "32f84efc-4568-477b-aed3-83ee362cde23"
      },
      "source": [
        "cla.fit(\n",
        "        training_set,\n",
        "        epochs=25,\n",
        "        validation_data=test_set,\n",
        "        )"
      ],
      "execution_count": null,
      "outputs": [
        {
          "output_type": "stream",
          "text": [
            "Epoch 1/25\n",
            "251/251 [==============================] - 4469s 18s/step - loss: 0.6823 - accuracy: 0.5606 - val_loss: 0.6665 - val_accuracy: 0.5575\n",
            "Epoch 2/25\n",
            "251/251 [==============================] - 51s 203ms/step - loss: 0.6356 - accuracy: 0.6364 - val_loss: 0.6098 - val_accuracy: 0.6610\n",
            "Epoch 3/25\n",
            "251/251 [==============================] - 51s 202ms/step - loss: 0.5933 - accuracy: 0.6843 - val_loss: 0.6497 - val_accuracy: 0.6400\n",
            "Epoch 4/25\n",
            "251/251 [==============================] - 50s 201ms/step - loss: 0.5720 - accuracy: 0.7054 - val_loss: 0.5519 - val_accuracy: 0.7355\n",
            "Epoch 5/25\n",
            "251/251 [==============================] - 51s 204ms/step - loss: 0.5575 - accuracy: 0.7165 - val_loss: 0.5904 - val_accuracy: 0.6925\n",
            "Epoch 6/25\n",
            "251/251 [==============================] - 53s 209ms/step - loss: 0.5502 - accuracy: 0.7213 - val_loss: 0.5504 - val_accuracy: 0.7260\n",
            "Epoch 7/25\n",
            "251/251 [==============================] - 55s 218ms/step - loss: 0.5305 - accuracy: 0.7324 - val_loss: 0.5328 - val_accuracy: 0.7490\n",
            "Epoch 8/25\n",
            "251/251 [==============================] - 52s 208ms/step - loss: 0.5180 - accuracy: 0.7404 - val_loss: 0.5626 - val_accuracy: 0.7120\n",
            "Epoch 9/25\n",
            "251/251 [==============================] - 52s 206ms/step - loss: 0.5185 - accuracy: 0.7413 - val_loss: 0.5099 - val_accuracy: 0.7525\n",
            "Epoch 10/25\n",
            "251/251 [==============================] - 52s 206ms/step - loss: 0.5010 - accuracy: 0.7542 - val_loss: 0.5195 - val_accuracy: 0.7470\n",
            "Epoch 11/25\n",
            "251/251 [==============================] - 52s 206ms/step - loss: 0.5068 - accuracy: 0.7523 - val_loss: 0.5371 - val_accuracy: 0.7350\n",
            "Epoch 12/25\n",
            "251/251 [==============================] - 52s 206ms/step - loss: 0.4918 - accuracy: 0.7595 - val_loss: 0.5329 - val_accuracy: 0.7390\n",
            "Epoch 13/25\n",
            "251/251 [==============================] - 52s 207ms/step - loss: 0.4849 - accuracy: 0.7664 - val_loss: 0.4992 - val_accuracy: 0.7605\n",
            "Epoch 14/25\n",
            "251/251 [==============================] - 50s 201ms/step - loss: 0.4868 - accuracy: 0.7615 - val_loss: 0.5580 - val_accuracy: 0.7200\n",
            "Epoch 15/25\n",
            "251/251 [==============================] - 51s 202ms/step - loss: 0.4746 - accuracy: 0.7717 - val_loss: 0.5260 - val_accuracy: 0.7415\n",
            "Epoch 16/25\n",
            "251/251 [==============================] - 50s 200ms/step - loss: 0.4710 - accuracy: 0.7714 - val_loss: 0.5073 - val_accuracy: 0.7475\n",
            "Epoch 17/25\n",
            "251/251 [==============================] - 51s 201ms/step - loss: 0.4653 - accuracy: 0.7729 - val_loss: 0.5594 - val_accuracy: 0.7365\n",
            "Epoch 18/25\n",
            "251/251 [==============================] - 51s 204ms/step - loss: 0.4665 - accuracy: 0.7807 - val_loss: 0.5143 - val_accuracy: 0.7535\n",
            "Epoch 19/25\n",
            "251/251 [==============================] - 53s 211ms/step - loss: 0.4564 - accuracy: 0.7820 - val_loss: 0.5020 - val_accuracy: 0.7640\n",
            "Epoch 20/25\n",
            "251/251 [==============================] - 50s 201ms/step - loss: 0.4642 - accuracy: 0.7769 - val_loss: 0.4996 - val_accuracy: 0.7630\n",
            "Epoch 21/25\n",
            "251/251 [==============================] - 50s 199ms/step - loss: 0.4660 - accuracy: 0.7825 - val_loss: 0.5048 - val_accuracy: 0.7550\n",
            "Epoch 22/25\n",
            "251/251 [==============================] - 50s 199ms/step - loss: 0.4423 - accuracy: 0.7944 - val_loss: 0.5237 - val_accuracy: 0.7440\n",
            "Epoch 23/25\n",
            "251/251 [==============================] - 50s 200ms/step - loss: 0.4358 - accuracy: 0.7944 - val_loss: 0.5239 - val_accuracy: 0.7535\n",
            "Epoch 24/25\n",
            "251/251 [==============================] - 53s 211ms/step - loss: 0.4342 - accuracy: 0.7932 - val_loss: 0.5234 - val_accuracy: 0.7570\n",
            "Epoch 25/25\n",
            "251/251 [==============================] - 51s 204ms/step - loss: 0.4382 - accuracy: 0.7928 - val_loss: 0.5313 - val_accuracy: 0.7520\n"
          ],
          "name": "stdout"
        },
        {
          "output_type": "execute_result",
          "data": {
            "text/plain": [
              "<tensorflow.python.keras.callbacks.History at 0x7f4c47f76a58>"
            ]
          },
          "metadata": {
            "tags": []
          },
          "execution_count": 12
        }
      ]
    },
    {
      "cell_type": "code",
      "metadata": {
        "colab": {
          "base_uri": "https://localhost:8080/"
        },
        "id": "NGZWypaRXlXI",
        "outputId": "ec635160-7602-4edf-8301-1ee5f993108b"
      },
      "source": [
        "import numpy as np\n",
        "from keras.preprocessing import image\n",
        "test_image = image.load_img('/content/drive/MyDrive/ds/train/cats/cat.2040.jpg', target_size = (64, 64))\n",
        "test_image = image.img_to_array(test_image)\n",
        "test_image = np.expand_dims(test_image, axis = 0)\n",
        "result = cla.predict(test_image)\n",
        "training_set.class_indices\n",
        "if result[0][0] == 1:\n",
        "  prediction = 'dog'\n",
        "else:\n",
        "  prediction = 'cat'\n",
        "\n",
        "print(prediction)"
      ],
      "execution_count": null,
      "outputs": [
        {
          "output_type": "stream",
          "text": [
            "cat\n"
          ],
          "name": "stdout"
        }
      ]
    }
  ]
}